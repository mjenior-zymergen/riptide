{
 "cells": [
  {
   "cell_type": "code",
   "execution_count": null,
   "id": "5e4e7ff1",
   "metadata": {},
   "outputs": [],
   "source": [
    "from riptide_test import *\n",
    "\n",
    "genre = cobra.io.load_json_model('/Users/mjenior/Desktop/repos/nextflow-riptide/tests/input/iCdR703.json')\n",
    "transcript_abund = read_transcription_file('/Users/mjenior/Desktop/repos/nextflow-riptide/tests/output/public/20221024-015727/analysis/rough_riptide_files/transcriptome.tsv')"
   ]
  },
  {
   "cell_type": "code",
   "execution_count": null,
   "id": "472d2a6a",
   "metadata": {},
   "outputs": [],
   "source": [
    "maxfit_concurrent_test = maxfit(model=genre, transcriptome=transcript_abund)"
   ]
  },
  {
   "cell_type": "code",
   "execution_count": null,
   "id": "bf8fc9ee",
   "metadata": {},
   "outputs": [],
   "source": [
    "save_output(riptide_obj=maxfit_concurrent_test)"
   ]
  },
  {
   "cell_type": "code",
   "execution_count": null,
   "id": "64434357",
   "metadata": {},
   "outputs": [],
   "source": []
  }
 ],
 "metadata": {
  "kernelspec": {
   "display_name": "Python 3 (ipykernel)",
   "language": "python",
   "name": "python3"
  },
  "language_info": {
   "codemirror_mode": {
    "name": "ipython",
    "version": 3
   },
   "file_extension": ".py",
   "mimetype": "text/x-python",
   "name": "python",
   "nbconvert_exporter": "python",
   "pygments_lexer": "ipython3",
   "version": "3.9.13"
  }
 },
 "nbformat": 4,
 "nbformat_minor": 5
}
